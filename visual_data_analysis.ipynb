{
 "cells": [
  {
   "cell_type": "markdown",
   "metadata": {
    "deletable": true,
    "editable": true
   },
   "source": [
    "   # Visual Data Analysis of Fraudulent Transactions"
   ]
  },
  {
   "cell_type": "code",
   "execution_count": null,
   "metadata": {
    "collapsed": false,
    "deletable": true,
    "editable": true,
    "jupyter": {
     "outputs_hidden": false
    }
   },
   "outputs": [],
   "source": [
    "# initial imports\n",
    "import os\n",
    "import pandas as pd\n",
    "from datetime import datetime\n",
    "import calendar\n",
    "import plotly.express as px\n",
    "import psycopg2\n",
    "import hvplot.pandas\n",
    "from sqlalchemy import create_engine"
   ]
  },
  {
   "cell_type": "code",
   "execution_count": null,
   "metadata": {
    "deletable": true,
    "editable": true
   },
   "outputs": [],
   "source": [
    "# create a connection to the database\n",
    "engine= ('postgresql://{username}:{password}@{ipaddress}:{port}/{dbname}'\n",
    "         .format(username='postgres',\n",
    "                 password=os.getenv('PGAdmin_PW'),\n",
    "                 ipaddress='localhost',\n",
    "                 port='5432',\n",
    "                 dbname='fraud_detection')\n",
    "        )"
   ]
  },
  {
   "cell_type": "markdown",
   "metadata": {},
   "source": [
    "### Conclusions for Question 1\n",
    "Credit card holder 18 is trying to fly under the radar with small amounts, and regularly taking bit money (>$1000).\n",
    "\n",
    "Therefore card holder 18 is riskier that credit card holder 2."
   ]
  },
  {
   "cell_type": "markdown",
   "metadata": {
    "deletable": true,
    "editable": true
   },
   "source": [
    "   ## Data Analysis Questions\n",
    "\n",
    "   Use `hvPlot` to create a line plot showing a time series from the transactions along all the year for **card holders 2 and 18**. In order to contrast the patterns of both card holders, create a line plot containing both lines. What difference do you observe between the consumption patterns? Does the difference could be a fraudulent transaction? Explain your rationale."
   ]
  },
  {
   "cell_type": "code",
   "execution_count": null,
   "metadata": {
    "deletable": true,
    "editable": true
   },
   "outputs": [],
   "source": [
    "# loading data for card holder 2 and 18 from the database\n",
    "query = \"select a.id, c.date, c.amount \\\n",
    "from card_holder a \\\n",
    "inner join credit_card b \\\n",
    "on a.id = b.cardholder_id \\\n",
    "inner join transaction c \\\n",
    "on b.card = c.card\"\n",
    "\n",
    "df = pd.read_sql(query, engine)\n",
    "df.head()"
   ]
  },
  {
   "cell_type": "code",
   "execution_count": null,
   "metadata": {
    "deletable": true,
    "editable": true
   },
   "outputs": [],
   "source": [
    "# plot for cardholder 2\n",
    "df_2 = df.loc[df['id']==2].sort_values(by = 'date')\n",
    "df_2.plot.line(x = 'date', y = 'amount', rot = 90)"
   ]
  },
  {
   "cell_type": "code",
   "execution_count": null,
   "metadata": {
    "deletable": true,
    "editable": true
   },
   "outputs": [],
   "source": [
    "# plot for cardholder 18\n",
    "df_18 = df.loc[df['id']==18].sort_values(by = 'date')\n",
    "df_18.plot.line(x = 'date', y = 'amount', rot = 90)"
   ]
  },
  {
   "cell_type": "code",
   "execution_count": null,
   "metadata": {
    "deletable": true,
    "editable": true
   },
   "outputs": [],
   "source": [
    "# combined plot for card holders 2 and 18\n",
    "df_2.hvplot(kind = 'line',x = 'date', y = 'amount', rot = 90) * df_18.hvplot(\n",
    "    kind = 'line',x = 'date', y = 'amount', rot = 90\n",
    ")"
   ]
  },
  {
   "cell_type": "markdown",
   "metadata": {
    "deletable": true,
    "editable": true
   },
   "source": [
    "   ## Data Analysis Question\n",
    "   Use `Plotly Express` to create a series of six box plots, one for each month, in order to identify how many outliers could be per month for **card holder id 25**. By observing the consumption patters, do you see any anomalies? Write your own conclusions about your insights."
   ]
  },
  {
   "cell_type": "code",
   "execution_count": null,
   "metadata": {
    "deletable": true,
    "editable": true
   },
   "outputs": [],
   "source": [
    "# loading data of daily transactions from jan to jun 2018 for card holder 25\n",
    "df_25 = df.loc[(df['id']==25) & (df['date'] < datetime.date(datetime(2018,7,1)))].sort_values(by = 'date')\n",
    "df_25.head()"
   ]
  },
  {
   "cell_type": "code",
   "execution_count": null,
   "metadata": {
    "deletable": true,
    "editable": true
   },
   "outputs": [],
   "source": [
    "# change the numeric month to month names\n",
    "#calendar.month(df_25['date']) #= df_25.calendar.month(date)\n",
    "df_25['monthnumber'] = pd.DatetimeIndex(df_25['date']).month\n",
    "df_25['monthName'] = df_25['monthnumber'].apply(lambda x: calendar.month_name[x])\n",
    "#datetimeindexdf_25['date'].apply(lambda x: calendar.month_name[x])\n",
    "df_25.drop(columns = ['date', 'monthnumber','id'], inplace = True)"
   ]
  },
  {
   "cell_type": "code",
   "execution_count": null,
   "metadata": {},
   "outputs": [],
   "source": [
    "df_25"
   ]
  },
  {
   "cell_type": "code",
   "execution_count": null,
   "metadata": {
    "deletable": true,
    "editable": true
   },
   "outputs": [],
   "source": [
    "# creating the six box plots using plotly express\n",
    "\n",
    "px.box(df_25, x = 'monthName', y = 'amount', notched = True)"
   ]
  },
  {
   "cell_type": "markdown",
   "metadata": {
    "deletable": true,
    "editable": true
   },
   "source": [
    "   ### Conclusions for Question 2\n",
    "\n",
    "Card holder 25 is quite suspicious.  The majority of his or her transactions are of small amounts, but almost every month there is big spending over $1000. \n",
    "\n",
    "The intetnion might be testing if the real holder pays attention to credit card spending and then takes money if proved not."
   ]
  },
  {
   "cell_type": "code",
   "execution_count": null,
   "metadata": {},
   "outputs": [],
   "source": []
  }
 ],
 "metadata": {
  "file_extension": ".py",
  "kernelspec": {
   "display_name": "Python 3",
   "language": "python",
   "name": "python3"
  },
  "language_info": {
   "codemirror_mode": {
    "name": "ipython",
    "version": 3
   },
   "file_extension": ".py",
   "mimetype": "text/x-python",
   "name": "python",
   "nbconvert_exporter": "python",
   "pygments_lexer": "ipython3",
   "version": "3.8.5"
  },
  "mimetype": "text/x-python",
  "name": "python",
  "npconvert_exporter": "python",
  "pygments_lexer": "ipython3",
  "version": 3
 },
 "nbformat": 4,
 "nbformat_minor": 4
}
